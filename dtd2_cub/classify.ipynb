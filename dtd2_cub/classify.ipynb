{
 "cells": [
  {
   "cell_type": "code",
   "execution_count": 1,
   "id": "bb17ba6a-ad78-44d2-925e-f79600d764a6",
   "metadata": {},
   "outputs": [
    {
     "name": "stdout",
     "output_type": "stream",
     "text": [
      "/home/chenyun/work1/Clip\n",
      "0\n",
      "Sat Jul 24 01:49:53 2021       \n",
      "+-----------------------------------------------------------------------------+\n",
      "| NVIDIA-SMI 455.23.05    Driver Version: 455.23.05    CUDA Version: 11.1     |\n",
      "|-------------------------------+----------------------+----------------------+\n",
      "| GPU  Name        Persistence-M| Bus-Id        Disp.A | Volatile Uncorr. ECC |\n",
      "| Fan  Temp  Perf  Pwr:Usage/Cap|         Memory-Usage | GPU-Util  Compute M. |\n",
      "|                               |                      |               MIG M. |\n",
      "|===============================+======================+======================|\n",
      "|   0  GeForce GTX TIT...  Off  | 00000000:02:00.0 Off |                  N/A |\n",
      "| 20%   47C    P0    70W / 250W |      3MiB / 12212MiB |      0%      Default |\n",
      "|                               |                      |                  N/A |\n",
      "+-------------------------------+----------------------+----------------------+\n",
      "|   1  GeForce GTX TIT...  Off  | 00000000:03:00.0 Off |                  N/A |\n",
      "| 18%   48C    P0    70W / 250W |      0MiB / 12212MiB |      0%      Default |\n",
      "|                               |                      |                  N/A |\n",
      "+-------------------------------+----------------------+----------------------+\n",
      "|   2  GeForce GTX TIT...  Off  | 00000000:81:00.0 Off |                  N/A |\n",
      "| 18%   52C    P0    75W / 250W |      0MiB / 12212MiB |      0%      Default |\n",
      "|                               |                      |                  N/A |\n",
      "+-------------------------------+----------------------+----------------------+\n",
      "|   3  GeForce GTX TIT...  Off  | 00000000:82:00.0 Off |                  N/A |\n",
      "| 18%   50C    P0    69W / 250W |      0MiB / 12212MiB |      0%      Default |\n",
      "|                               |                      |                  N/A |\n",
      "+-------------------------------+----------------------+----------------------+\n",
      "                                                                               \n",
      "+-----------------------------------------------------------------------------+\n",
      "| Processes:                                                                  |\n",
      "|  GPU   GI   CI        PID   Type   Process name                  GPU Memory |\n",
      "|        ID   ID                                                   Usage      |\n",
      "|=============================================================================|\n",
      "|  No running processes found                                                 |\n",
      "+-----------------------------------------------------------------------------+\n"
     ]
    }
   ],
   "source": [
    "import os\n",
    "import importlib\n",
    "from PIL import Image\n",
    "import torch\n",
    "\n",
    "import clip\n",
    "\n",
    "os.chdir('/home/chenyun/work1/Clip')\n",
    "!pwd\n",
    "!echo $CUDA_VISIBLE_DEVICES\n",
    "!nvidia-smi"
   ]
  },
  {
   "cell_type": "code",
   "execution_count": 2,
   "id": "9678c72d-0394-486f-af1c-925666e108ef",
   "metadata": {},
   "outputs": [
    {
     "name": "stdout",
     "output_type": "stream",
     "text": [
      "model ready.\n"
     ]
    }
   ],
   "source": [
    "device = \"cuda\" if torch.cuda.is_available() else \"cpu\"\n",
    "model, preprocess = clip.load(\"ViT-B/32\", device=device)\n",
    "print('model ready.')"
   ]
  },
  {
   "cell_type": "code",
   "execution_count": 5,
   "id": "50c6a2fc-e60a-48aa-b0f9-13e441210e9e",
   "metadata": {},
   "outputs": [
    {
     "name": "stdout",
     "output_type": "stream",
     "text": [
      "CUB dataset ready.\n"
     ]
    }
   ],
   "source": [
    "from dtd2.applications.fine_grained_classification.cub_dataset import CUBDataset\n",
    "cub_dataset = CUBDataset(data_path='data/CUB_200_2011')"
   ]
  },
  {
   "cell_type": "code",
   "execution_count": 16,
   "id": "3520f2b0-69fa-4f8e-a6a8-15a6cb26d10d",
   "metadata": {},
   "outputs": [],
   "source": [
    "text_inputs = torch.cat([clip.tokenize(f\"a photo of a {c}\") for c in cub_dataset.class_names]).to(device)\n",
    "with torch.no_grad():\n",
    "    text_features = model.encode_text(text_inputs)\n",
    "    text_features /= text_features.norm(dim=-1, keepdim=True)"
   ]
  },
  {
   "cell_type": "code",
   "execution_count": 35,
   "id": "e16f0606-6577-4d8a-b405-86dc63cd8345",
   "metadata": {},
   "outputs": [],
   "source": [
    "import random\n",
    "result = dict()\n",
    "\n",
    "for img_idx in cub_dataset.img_splits['test']:\n",
    "    img_data = cub_dataset.img_data_list[img_idx]\n",
    "    img = cub_dataset.load_img(img_idx)\n",
    "    gt_label = img_data['class_label']\n",
    "    \n",
    "    image_input = preprocess(img).unsqueeze(0).to(device)\n",
    "    with torch.no_grad():\n",
    "        image_features = model.encode_image(image_input)\n",
    "        image_features /= image_features.norm(dim=-1, keepdim=True)\n",
    "        similarity = (100.0 * image_features @ text_features.T).softmax(dim=-1)\n",
    "        values, indices = similarity[0].topk(5)\n",
    "        gt_rank = torch.sum(similarity[0] > similarity[0, gt_label])\n",
    "    result[img_idx] = {'top_5_labels': indices.detach().cpu().numpy(), \n",
    "                      'top_5_probs': values.detach().cpu().numpy(), \n",
    "                      'gt_rank':gt_rank.detach().cpu().numpy()}"
   ]
  },
  {
   "cell_type": "code",
   "execution_count": 36,
   "id": "9d935217-ebcb-4cc2-8046-bfa35610ffa6",
   "metadata": {},
   "outputs": [],
   "source": [
    "import numpy as np\n",
    "\n",
    "def evaluate(predicts):\n",
    "    count = len(predicts)\n",
    "    metrics = {'mrr': 0, 'acc_top1': 0, 'acc_top5': 0, 'acc_top10': 0}\n",
    "    for p in predicts.values():\n",
    "        r = p['gt_rank']\n",
    "        metrics['mrr'] += 1.0 /(1 + r)\n",
    "        metrics['acc_top1'] += int(r == 0)\n",
    "        metrics['acc_top5'] += int(r < 5)\n",
    "        metrics['acc_top10'] += int(r < 10)\n",
    "    for k, v in metrics.items():\n",
    "        metrics[k] = v / count\n",
    "        print(k, metrics[k])\n",
    "   \n",
    "    "
   ]
  },
  {
   "cell_type": "code",
   "execution_count": 38,
   "id": "2236bd48-972f-41d6-829c-69d041ec6202",
   "metadata": {},
   "outputs": [
    {
     "name": "stdout",
     "output_type": "stream",
     "text": [
      "mrr 0.5193503505212196\n",
      "acc_top1 0.38919571971004485\n",
      "acc_top5 0.6853641698308595\n",
      "acc_top10 0.7811529168104936\n"
     ]
    }
   ],
   "source": [
    "evaluate(result)"
   ]
  },
  {
   "cell_type": "code",
   "execution_count": null,
   "id": "9bc18233-4dde-4c4d-948c-9f4d33a70f53",
   "metadata": {},
   "outputs": [],
   "source": []
  }
 ],
 "metadata": {
  "kernelspec": {
   "display_name": "clip",
   "language": "python",
   "name": "clip"
  },
  "language_info": {
   "codemirror_mode": {
    "name": "ipython",
    "version": 3
   },
   "file_extension": ".py",
   "mimetype": "text/x-python",
   "name": "python",
   "nbconvert_exporter": "python",
   "pygments_lexer": "ipython3",
   "version": "3.7.10"
  }
 },
 "nbformat": 4,
 "nbformat_minor": 5
}
