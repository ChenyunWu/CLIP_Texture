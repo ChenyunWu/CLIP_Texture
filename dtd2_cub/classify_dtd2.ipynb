{
 "cells": [
  {
   "cell_type": "code",
   "execution_count": 1,
   "id": "42dbcf17-095f-470b-9aad-c276596dce14",
   "metadata": {},
   "outputs": [
    {
     "name": "stdout",
     "output_type": "stream",
     "text": [
      "/home/chenyun/work1/Clip\n",
      "7\n",
      "Mon Aug 23 02:11:23 2021       \n",
      "+-----------------------------------------------------------------------------+\n",
      "| NVIDIA-SMI 470.57.02    Driver Version: 470.57.02    CUDA Version: 11.4     |\n",
      "|-------------------------------+----------------------+----------------------+\n",
      "| GPU  Name        Persistence-M| Bus-Id        Disp.A | Volatile Uncorr. ECC |\n",
      "| Fan  Temp  Perf  Pwr:Usage/Cap|         Memory-Usage | GPU-Util  Compute M. |\n",
      "|                               |                      |               MIG M. |\n",
      "|===============================+======================+======================|\n",
      "|   0  Quadro RTX 8000     Off  | 00000000:1A:00.0 Off |                  Off |\n",
      "| 41%   64C    P2   142W / 260W |  46729MiB / 48601MiB |     26%      Default |\n",
      "|                               |                      |                  N/A |\n",
      "+-------------------------------+----------------------+----------------------+\n",
      "|   1  Quadro RTX 8000     Off  | 00000000:1C:00.0 Off |                  Off |\n",
      "| 45%   68C    P2   265W / 260W |  46392MiB / 48601MiB |     94%      Default |\n",
      "|                               |                      |                  N/A |\n",
      "+-------------------------------+----------------------+----------------------+\n",
      "|   2  Quadro RTX 8000     Off  | 00000000:1D:00.0 Off |                  Off |\n",
      "| 49%   71C    P2   273W / 260W |  46392MiB / 48601MiB |     95%      Default |\n",
      "|                               |                      |                  N/A |\n",
      "+-------------------------------+----------------------+----------------------+\n",
      "|   3  Quadro RTX 8000     Off  | 00000000:1E:00.0 Off |                  Off |\n",
      "| 44%   67C    P2   261W / 260W |  46392MiB / 48601MiB |     93%      Default |\n",
      "|                               |                      |                  N/A |\n",
      "+-------------------------------+----------------------+----------------------+\n",
      "|   4  Quadro RTX 8000     Off  | 00000000:3D:00.0 Off |                  Off |\n",
      "| 38%   64C    P2   259W / 260W |  46388MiB / 48601MiB |     94%      Default |\n",
      "|                               |                      |                  N/A |\n",
      "+-------------------------------+----------------------+----------------------+\n",
      "|   5  Quadro RTX 8000     Off  | 00000000:3F:00.0 Off |                  Off |\n",
      "| 33%   36C    P8    24W / 260W |      0MiB / 48601MiB |      0%      Default |\n",
      "|                               |                      |                  N/A |\n",
      "+-------------------------------+----------------------+----------------------+\n",
      "|   6  Quadro RTX 8000     Off  | 00000000:40:00.0 Off |                  Off |\n",
      "| 42%   67C    P2   257W / 260W |  46388MiB / 48601MiB |     91%      Default |\n",
      "|                               |                      |                  N/A |\n",
      "+-------------------------------+----------------------+----------------------+\n",
      "|   7  Quadro RTX 8000     Off  | 00000000:41:00.0 Off |                  Off |\n",
      "| 33%   36C    P8    29W / 260W |      0MiB / 48601MiB |      0%      Default |\n",
      "|                               |                      |                  N/A |\n",
      "+-------------------------------+----------------------+----------------------+\n",
      "                                                                               \n",
      "+-----------------------------------------------------------------------------+\n",
      "| Processes:                                                                  |\n",
      "|  GPU   GI   CI        PID   Type   Process name                  GPU Memory |\n",
      "|        ID   ID                                                   Usage      |\n",
      "|=============================================================================|\n",
      "|    0   N/A  N/A     23686      C   python                          45169MiB |\n",
      "|    0   N/A  N/A    160619      C   python                           1557MiB |\n",
      "|    1   N/A  N/A     65030      C   python                          46373MiB |\n",
      "|    2   N/A  N/A     57481      C   python                          46373MiB |\n",
      "|    3   N/A  N/A     53569      C   python                          46373MiB |\n",
      "|    4   N/A  N/A     61138      C   python                          46373MiB |\n",
      "|    6   N/A  N/A     36054      C   python                          46373MiB |\n",
      "+-----------------------------------------------------------------------------+\n"
     ]
    }
   ],
   "source": [
    "import os\n",
    "import importlib\n",
    "import numpy as np\n",
    "import torch\n",
    "from PIL import Image\n",
    "from wordcloud import WordCloud\n",
    "\n",
    "# os.chdir('/path/to/your/Clip')\n",
    "!pwd\n",
    "!echo $CUDA_VISIBLE_DEVICES\n",
    "!nvidia-smi"
   ]
  },
  {
   "cell_type": "code",
   "execution_count": 2,
   "id": "b4f84c38-c76e-41db-b510-169a6ab3b969",
   "metadata": {},
   "outputs": [
    {
     "name": "stdout",
     "output_type": "stream",
     "text": [
      "ClipEncoder ready.\n"
     ]
    }
   ],
   "source": [
    "from utils.clip_encoder import ClipEncoder\n",
    "clip_encoder = ClipEncoder()"
   ]
  },
  {
   "cell_type": "code",
   "execution_count": 4,
   "id": "ef8464a1-01bc-41cd-b0fc-3224bab493c8",
   "metadata": {},
   "outputs": [
    {
     "name": "stdout",
     "output_type": "stream",
     "text": [
      "TextureDescriptionData ready. \n",
      "655 phrases with frequency above 10.\n",
      "Image count: train 3222, val 805, test 1342\n",
      "dataset ready.\n"
     ]
    }
   ],
   "source": [
    "from dtd2.data_api.dataset_api import TextureDescriptionData\n",
    "from dtd2.models.layers.util import print_tensor_stats\n",
    "from dtd2.data_api.eval_retrieve import retrieve_eval as dtd2_eval\n",
    "\n",
    "split = 'test'\n",
    "dataset = TextureDescriptionData()\n",
    "print('dataset ready.')\n",
    "img_num = len(dataset.img_splits[split])\n",
    "phrase_num = len(dataset.phrases)"
   ]
  },
  {
   "cell_type": "code",
   "execution_count": 5,
   "id": "698a0d13-6a5a-4192-af3b-726ea398f7d6",
   "metadata": {},
   "outputs": [
    {
     "name": "stdout",
     "output_type": "stream",
     "text": [
      "{'image_name': 'honeycombed/honeycombed_0043.jpg', 'category': 'honeycombed', 'descriptions': ['old, hexagon, glass, honeycomb, delicate, pattern', 'cold, smooth, regular, shiny, sleek', 'honeycombed, interwoven, round, large, hexagonal', 'painted honeycombed pattern that is bronze along the ridges and gray within the honeycomb'], 'phrase_ids': {4, 101, 8, 41, 268, 269, 237, 77, 274, 275, 182, 56, 62, 126, -1, 191}}\n"
     ]
    }
   ],
   "source": [
    "eg = dataset.get_split_data('test')\n",
    "print(eg)"
   ]
  },
  {
   "cell_type": "code",
   "execution_count": 6,
   "id": "2cf8fbc1-e54d-43f9-aee8-e8963e966664",
   "metadata": {},
   "outputs": [],
   "source": [
    "cat_phrases = dict()\n",
    "for img_name in dataset.img_splits['train']:\n",
    "    img_data = dataset.img_data_dict[img_name]\n",
    "    if img_data['category'] not in cat_phrases:\n",
    "        cat_phrases[img_data['category']] = np.zeros(656)\n",
    "    for p_id in img_data['phrase_ids']:\n",
    "        if p_id >= 0:\n",
    "            cat_phrases[img_data['category']][p_id] += 1\n"
   ]
  },
  {
   "cell_type": "code",
   "execution_count": 7,
   "id": "f0d83095-d7f9-486c-a5dc-95bf874d7b7d",
   "metadata": {
    "tags": []
   },
   "outputs": [
    {
     "name": "stdout",
     "output_type": "stream",
     "text": [
      "braided An image of braided, woven, twisted, knotted, interlaced, intertwined, bumpy, wicker, brown, interlocked, plaited, weaved, rope, basket, shiny, tough, tied, grooved, interwoven, brown color texture.\n",
      "marbled An image of marbled, smooth, hard, cold, streaked, veined, marble, white, cracked, swirled, stone, mottled, solid, speckled, orange, gray, scratched, blotchy, striated, shiny texture.\n",
      "woven An image of woven, interlaced, intertwined, wicker, wooden, brown, braided, interlocked, basket, rough, tan, handmade, knitted, knit, weaved, tight, fuzzy, twisted, squares, tightly wound texture.\n",
      "swirly An image of swirly, whirly, twirly, circular, swirls, curly, red, black, green, white, abstract, spiralled, bright, pink, purple, curvy, colorful, swirled, yellow, painting texture.\n",
      "meshed An image of meshed, metallic, metal, silver, netted, linked, chain, woven, cold, shiny, diamond, wire, fenced, knotted, iron, diamond shaped, intertwined, mesh, diamond shape, holey texture.\n",
      "wrinkled An image of wrinkled, crinkled, folded, crumpled, creased, rough, paper, silky, shiny, smooth, furled, bumpy, furrowed, old, crushed, gray, messy, dry, papery, aged texture.\n",
      "veined An image of veined, green, leafy, lined, leaf, cracked, lines, fragile, yellow, veiny, red, natural, delicate, veins, fibrous, fresh, waxy, orange, moist, earthy texture.\n",
      "flecked An image of flecked, speckled, spotted, freckled, black, rough, fabric, stitched, splattered, dotted, smooth, woven, soft, dusted, dark surface, knitted, sprinkled, mottled, scratchy, stippled texture.\n",
      "striped An image of striped, black, lined, animal print, black and white, furry, white, zebra, soft, fur, banded, vertical, stripes, animal, smooth, zebra print, orange, skin, wild, fuzzy texture.\n",
      "pitted An image of pitted, rough, porous, grey, holey, pocked, hard, blotchy, stone, uneven, holes, rocky, bumpy, sand, grainy, pockmarked, dry, gritty, wet, rock texture.\n",
      "grid An image of grid, square, squares, squared, metal, metallic, uniform, mesh, equally spaced, window, checkered, black lines, diamonds, black and white, cold, symmetrical, interlocked, equal size, lined, crossed texture.\n",
      "perforated An image of perforated, holey, holes, metallic, punched, silver, metal, circular, circles, holed, grey, steel, dotted, smooth, equal size, pierced, black, porous, circular shape, hole texture.\n",
      "bubbly An image of bubbly, fizzy, wet, transparent, airy, light, clear, foamy, carbonated, shiny, effervescent, circles, frothy, liquid, circular, bubbles, golden, watery, sparkling, reflective texture.\n",
      "stratified An image of stratified, layered, hard, rocky, rock, rough, brown, lined, stone, tan, grey, wood, natural, uneven, marbled, dry, stacked, cracked, sand, horizontal texture.\n",
      "dotted An image of dotted, spotted, pink, circles, green, yellow, red, polka dotted, blue, colorful, white background, soft texture, cloth material, circular shape, fabric, polka dots, circular, multicolored, dots, smooth texture.\n",
      "honeycombed An image of honeycombed, hexagon, hexagonal, geometric pattern, circles, polygon, honey, regular, geometric, hexagonal shape, patterned, uniform, equally spaced, gold, yellow, perforated, equal size, red, geometrical, sticky texture.\n",
      "crosshatched An image of crosshatched, lined, black, scratched, shaded, black and white, vertical, etched, gray, lines, horizontal, stitched, detailed, woven, art, dark, unwrinkled, rough, old, drawing texture.\n",
      "spiralled An image of spiralled, twisted, circular, swirled, blue, curled, spiral, swirly, coiled, round, circle, swirl, purple, long, wound, shiny, green, wavy, yellow, looped texture.\n",
      "pleated An image of pleated, folded, soft, creased, lined, cloth, fabric, smooth, wrinkled, gathered, draped, silky, wavy, white, grooved, curtain, layered, scrunched, pink, thick texture.\n",
      "matted An image of matted, tangled, thick, knotted, brown, hairy, furry, twisted, soft, fuzzy, dry, fluffy, rough, stuck, dirty, hair, fibrous, stringy, green, grass texture.\n",
      "zigzagged An image of zigzagged, chevron, jagged, blue, white background, patterned, orange, horizontal, pointed, green, squiggly, striped, cloth material, multi color, wavy, colorful, lined, red, parallel, yellow texture.\n",
      "banded An image of banded, striped, lined, blue, soft, cloth material, stripes, vertical, pink, horizontal, red, white, purple, lines, vertical stripes, equally spaced, multi color, parallel, flat, diagonal texture.\n",
      "studded An image of studded, shiny, metallic, leather, silver, gold, black, pierced, leathery, round, dark, metal, buttoned, pointed, black background, pointy, bumpy, hard, cold, spiked texture.\n",
      "gauzy An image of gauzy, sheer, transparent, light, thin, white, translucent, soft, see through, delicate, netted, meshy, airy, silky, fabric, see-through, folded, wavy, curtains, cloth texture.\n",
      "frilly An image of frilly, ruffled, soft, layered, pink, green, leafy, wavy, purple, wrinkled, ruffles, fresh, leaves, lacy, floral, petals, delicate, lacey, earthy, thin texture.\n",
      "blotchy An image of blotchy, splotchy, stained, green, smeared, mottled, painting, spotted, grungy, spotty, multi color, brown, marbled, veined, bleached, purple, soft texture, scratched, painted, patchy texture.\n",
      "stained An image of stained, dirty, blotchy, smeared, splotchy, messy, grungy, bleached, marked, red, discolored, mottled, stain, spotted, worn, brown, blotched, uneven, splattered, old texture.\n",
      "polka-dotted An image of spotted, dotted, polka-dotted, polka dotted, circles, white, equal size, equally spaced, cloth material, soft, circular shape, dots, evenly spaced, white dots, small, pink, multiple numbers, fabric, large, smooth texture.\n",
      "lined An image of striped, lined, horizontal, banded, blue, parallel, white, red, horizontal lines, paper, cloth material, vertical, equally spaced, black, ruled, fabric, soft, vertical lines, thin, equal size texture.\n",
      "knitted An image of knitted, soft, woven, yarn, warm, interlaced, fuzzy, braided, fabric, winter wear, knit, cotton, pink, tightly wound, sweater, hand made, crocheted, cabled, woolen, wool texture.\n",
      "sprinkled An image of sprinkled, speckled, splattered, dusted, spotted, flecked, colorful, dotted, red, uneven, scattered, splotched, multi color, yellow, soft, small, pink, blue, sweet, paint texture.\n",
      "interlaced An image of interlaced, woven, intertwined, intricate, ornate, connected, interlocked, knotted, interwoven, black background, metallic, geometric, hard, metal, laced, silver, yellow, carved, gold, black texture.\n",
      "fibrous An image of fibrous, stringy, tangled, dry, matted, messy, rough, straw, long, brown, thin, strands, grass, shredded, tan, hairy, yellow, sticks, earthy, scratchy texture.\n",
      "paisley An image of paisley, floral, abstract, blue, swirly, patterned, smooth, soft, red, cloth, intricate, swirls, ornate, colorful, decorative, orange, fabric, busy, bright, flowery texture.\n",
      "crystalline An image of crystalline, shiny, hard, transparent, clear, smooth, sharp, crystal, translucent, rocky, faceted, jagged, reflective, solid, purple, stone, white, cloudy, cold, uneven texture.\n",
      "chequered An image of chequered, squared, checkered, squares, square, chess board pattern, black, black and white, square shape, grid, checked, plaid, cloth material, white, smooth, black & white color, geometric pattern, pattern, symmetrical, evenly spaced texture.\n",
      "cracked An image of cracked, broken, dry, rough, shattered, hard, fractured, rough texture, brown, crack, dry land, grey, uneven, old, splintered, dirty, chipped, crackled, damaged, sharp texture.\n",
      "porous An image of porous, rough, pitted, hard, spongy, grey, dry, holey, rocky, gray, stone, bumpy, gritty, grainy, holes, rough surface, cracked, sand, uneven, rough texture texture.\n",
      "grooved An image of grooved, lined, ridged, wooden, lines, parallel, brown, bumpy, corrugated, furrowed, vertical, wood, rigid, gray, hard, fluted, grey, horizontal, etched, black texture.\n",
      "lacelike An image of lacelike, delicate, floral, white, lacy, sheer, patterned, netted, flowery, fancy, thin, woven, transparent, lacey, lace, meshed, gauzy, mesh, fabric, intricate texture.\n",
      "waffled An image of waffled, brown, squared, crispy, golden, crunchy, squares, grid, square, golden brown, fluffy, food item, sweet, brown color, pitted, light, sticky, soft, square shaped, tan texture.\n",
      "smeared An image of smeared, painted, blurry, painting, red, yellow, dragged, blue, abstract, smudged, splattered, blurred, colorful, multicolored, green, splotched, blended, blotchy, brushed, dark texture.\n",
      "scaly An image of scaly, shiny, layered, rough, bumpy, skin, black, slimy, green, smooth, snake, snakeskin, silver, grey, reflective, uniform, brown, dry, overlapped, flaky texture.\n",
      "cobwebbed An image of cobwebbed, delicate, sticky, webbed, spiderwebbed, spider web, white, spider, netted, wet, thin, circular, lacelike, woven, black background, web, silky, spiralled, fragile, intricate texture.\n",
      "bumpy An image of bumpy, lumpy, rough, uneven, hard, green, grooved, round, ridged, knobby, fruit, bubbly, rounded, yellow, bubbled, rough surface, pointy, raised, orange, pointed texture.\n",
      "20 0.5484351713859911\n"
     ]
    }
   ],
   "source": [
    "ave_phrases = np.zeros(656)\n",
    "for p_count in cat_phrases.values():\n",
    "    ave_phrases += p_count\n",
    "ave_phrases /= len(cat_phrases)\n",
    "\n",
    "# for p_num in [1, 5, 10, 15, 20, 25, 30, 35, 40]:\n",
    "for p_num in [20]:\n",
    "    cat_desc = dict()\n",
    "    for cat, p_count in cat_phrases.items():\n",
    "        p_scores = (p_count - ave_phrases) / len(dataset.img_splits['train'])\n",
    "        pi_sorted = np.argsort(p_scores)\n",
    "        phrases = list()\n",
    "        for i in range(p_num):\n",
    "            pi = pi_sorted[-i - 1]\n",
    "            if p_scores[pi] < 0:\n",
    "                print('WARN: score < 0: %s, %d' % (cat, pi))\n",
    "                break\n",
    "            phrases.append(dataset.phid_to_phrase(pi))\n",
    "        cat_desc[cat] = 'An image of %s texture.' % ', '.join(phrases)\n",
    "        print(cat, cat_desc[cat])\n",
    "#     print(cat_desc)\n",
    "    categories = sorted(list(cat_desc.keys()))\n",
    "    cat_to_ids = {c: i for i, c in enumerate(categories)}\n",
    "    text_inputs = [cat_desc[c] for c in categories]\n",
    "    text_feats = clip_encoder.encode_text_list(text_inputs)\n",
    "    correct = 0\n",
    "    for img_name in dataset.img_splits['test']:\n",
    "        img = dataset.load_img(img_name)\n",
    "        img_feat = clip_encoder.encode_img(img)\n",
    "        score = img_feat @ text_feats.T\n",
    "        pred_ci = int(torch.argmax(score))\n",
    "        if pred_ci == cat_to_ids[img_name.split('/')[0]]:\n",
    "            correct += 1\n",
    "    acc = correct / len(dataset.img_splits['test'])\n",
    "    print(p_num, acc)"
   ]
  },
  {
   "cell_type": "code",
   "execution_count": 54,
   "id": "80a7b3a8-440d-4dbe-badc-f3470f2672c7",
   "metadata": {},
   "outputs": [],
   "source": [
    "texts = ['An image of %s texture.' % c for c in categories]\n",
    "text_feats = clip_encoder.encode_text_list(texts)\n",
    "correct = 0\n",
    "for img_name in dataset.img_splits['test']:\n",
    "    img = dataset.load_img(img_name)\n",
    "    img_feat = clip_encoder.encode_img(img)\n",
    "    score = img_feat @ text_feats.T\n",
    "    pred_ci = int(torch.argmax(score))\n",
    "    if pred_ci == cat_to_ids[img_name.split('/')[0]]:\n",
    "        correct += 1\n",
    "acc = correct / len(dataset.img_splits['test'])"
   ]
  },
  {
   "cell_type": "code",
   "execution_count": 55,
   "id": "5cca8e3a-aef6-4f84-9115-d67d3efa354e",
   "metadata": {},
   "outputs": [
    {
     "name": "stdout",
     "output_type": "stream",
     "text": [
      "0.4105812220566319\n"
     ]
    }
   ],
   "source": [
    "print(acc)"
   ]
  }
 ],
 "metadata": {
  "kernelspec": {
   "display_name": "clip",
   "language": "python",
   "name": "clip"
  },
  "language_info": {
   "codemirror_mode": {
    "name": "ipython",
    "version": 3
   },
   "file_extension": ".py",
   "mimetype": "text/x-python",
   "name": "python",
   "nbconvert_exporter": "python",
   "pygments_lexer": "ipython3",
   "version": "3.7.10"
  }
 },
 "nbformat": 4,
 "nbformat_minor": 5
}
